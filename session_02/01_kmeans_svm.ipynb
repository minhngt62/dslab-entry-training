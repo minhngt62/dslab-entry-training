{
 "cells": [
  {
   "cell_type": "markdown",
   "id": "55143e0f",
   "metadata": {},
   "source": [
    "# K-MEANS & SVM\n",
    "A notebook for KMeans and SVM "
   ]
  },
  {
   "cell_type": "code",
   "execution_count": 1,
   "id": "44d0c52a",
   "metadata": {},
   "outputs": [],
   "source": [
    "# Python ≥3.5 is required\n",
    "import sys\n",
    "assert sys.version_info >= (3, 5)\n",
    "\n",
    "# Disable warnings\n",
    "import warnings\n",
    "warnings.filterwarnings('ignore')\n",
    "\n",
    "# Scikit-Learn ≥0.20 is required\n",
    "import sklearn\n",
    "assert sklearn.__version__ >= \"0.20\"\n",
    "\n",
    "# Common imports\n",
    "import copy\n",
    "import pandas as pd\n",
    "import numpy as np\n",
    "import os\n",
    "PRJ_ROOT_DIR = os.path.dirname(os.path.abspath(''))\n",
    "\n",
    "# to make this notebook's output stable across runs\n",
    "np.random.seed(42)\n",
    "\n",
    "# To plot pretty figures\n",
    "%matplotlib inline\n",
    "import matplotlib as mpl\n",
    "import matplotlib.pyplot as plt\n",
    "mpl.rc('axes', labelsize=14)\n",
    "mpl.rc('xtick', labelsize=12)\n",
    "mpl.rc('ytick', labelsize=12)\n",
    "import seaborn as sns"
   ]
  },
  {
   "cell_type": "code",
   "execution_count": 2,
   "id": "723de461",
   "metadata": {},
   "outputs": [],
   "source": [
    "# Where to save the figures\n",
    "NOTE_ROOT_DIR = os.path.abspath('')\n",
    "DATA_DIR = os.path.join(NOTE_ROOT_DIR, \"data\", \"20news-bydate\")\n",
    "CHAPTER_ID = \"01_kmeans_svm\"\n",
    "IMAGES_PATH = os.path.join(NOTE_ROOT_DIR, \"images\", CHAPTER_ID)\n",
    "os.makedirs(IMAGES_PATH, exist_ok=True)\n",
    "\n",
    "def save_fig(fig_id, tight_layout=True, fig_extension=\"png\", resolution=300):\n",
    "    path = os.path.join(IMAGES_PATH, fig_id + \".\" + fig_extension)\n",
    "    print(\"Saving figure\", fig_id)\n",
    "    if tight_layout:\n",
    "        plt.tight_layout()\n",
    "    plt.savefig(path, format=fig_extension, dpi=resolution)"
   ]
  },
  {
   "cell_type": "markdown",
   "id": "167f529a",
   "metadata": {},
   "source": [
    "## 1 - KMeans from Scratch\n",
    "Source code of KMeans is of `.models/`"
   ]
  },
  {
   "cell_type": "code",
   "execution_count": 4,
   "id": "0c6bd00d",
   "metadata": {},
   "outputs": [
    {
     "name": "stdout",
     "output_type": "stream",
     "text": [
      "Purity: 0.1069723018147087 \n",
      "NMI: 0.002836080655787284\n"
     ]
    }
   ],
   "source": [
    "# Test KMeans from scratch\n",
    "from models import KMeans\n",
    "\n",
    "kmeans = KMeans(num_clusters=8)\n",
    "kmeans.load_data()\n",
    "kmeans.run(seed_value=42, criterion='similarity', threshold=1e-3)\n",
    "print(f\"Purity: {kmeans.compute_purity()}\", f\"\\nNMI: {kmeans.compute_NMI()}\")"
   ]
  },
  {
   "cell_type": "markdown",
   "id": "383deac4",
   "metadata": {},
   "source": [
    "## 2 - Sklearn Implementation"
   ]
  },
  {
   "cell_type": "code",
   "execution_count": 3,
   "id": "ac145d0e",
   "metadata": {},
   "outputs": [],
   "source": [
    "# Loss Function\n",
    "def compute_accuracy(y_pred, y):\n",
    "    # Check boolean True = 1, False = 0 \n",
    "    matches = np.equal(y_pred, y)\n",
    "    accuracy = np.sum(matches.astype(float)) / len(y)\n",
    "    return accuracy"
   ]
  },
  {
   "cell_type": "markdown",
   "id": "845740be",
   "metadata": {},
   "source": [
    "### 2.1 - Load the Data"
   ]
  },
  {
   "cell_type": "code",
   "execution_count": 5,
   "id": "6e82995b",
   "metadata": {},
   "outputs": [],
   "source": [
    "# Load the data\n",
    "def load_data(path: str = DATA_DIR):\n",
    "    def sparse_to_dense(sparse_r_d, vocab_size):\n",
    "        r_d = [0.0 for _ in range(vocab_size)]\n",
    "        indices_and_tfidfs = sparse_r_d.split()\n",
    "        for index_and_tfidf in indices_and_tfidfs:\n",
    "            index = int(index_and_tfidf.split(':')[0])\n",
    "            tfidf = float(index_and_tfidf.split(':')[1])\n",
    "            r_d[index] = tfidf\n",
    "        return np.array(r_d)    \n",
    "                \n",
    "    with open(os.path.join(path, \"data_tf_idf.txt\")) as f:\n",
    "            data_lines = f.read().splitlines()\n",
    "    with open(os.path.join(path, \"words_idfs.txt\")) as f:\n",
    "        vocab_size = len(f.read().splitlines())\n",
    "\n",
    "    data, labels = [], []\n",
    "    for data_id, d in enumerate(data_lines):\n",
    "        features = d.split('<fff>')\n",
    "        label, doc_id = int(features[0]), int(features[1])\n",
    "        r_d = sparse_to_dense(sparse_r_d=features[2], vocab_size=vocab_size)\n",
    "        data.append(r_d)\n",
    "        labels.append(label)\n",
    "    return data, np.array(labels)\n",
    "\n",
    "# extract the data\n",
    "X, y = load_data()"
   ]
  },
  {
   "cell_type": "code",
   "execution_count": 6,
   "id": "8a8b6031",
   "metadata": {},
   "outputs": [],
   "source": [
    "# split data into train set and test set\n",
    "from sklearn.model_selection import train_test_split\n",
    "X_train, X_test, y_train, y_test = train_test_split(X, y, test_size=0.2, random_state=42)"
   ]
  },
  {
   "cell_type": "markdown",
   "id": "30c9d890",
   "metadata": {},
   "source": [
    "### 2.2 - K-Means"
   ]
  },
  {
   "cell_type": "code",
   "execution_count": 19,
   "id": "75a5a319",
   "metadata": {},
   "outputs": [
    {
     "data": {
      "text/plain": [
       "0.04046166091801539"
      ]
     },
     "execution_count": 19,
     "metadata": {},
     "output_type": "execute_result"
    }
   ],
   "source": [
    "# Run with K-Means\n",
    "def clustering_with_KMeans(X_train):\n",
    "    from sklearn import cluster\n",
    "    from scipy.sparse import csr_matrix\n",
    "    \n",
    "    X_train = csr_matrix(X_train)\n",
    "    print(\"========\")\n",
    "    kmeans = cluster.KMeans(\n",
    "        n_clusters=8, \n",
    "        init=\"random\",\n",
    "        n_init=10,\n",
    "        tol=1e-3,\n",
    "        random_state=42\n",
    "        ).fit(X_train)\n",
    "    return kmeans.labels_\n",
    "\n",
    "y_pred = clustering_with_KMeans(X_train)\n",
    "compute_accuracy(y_pred, y_train)"
   ]
  },
  {
   "cell_type": "markdown",
   "id": "555fc4c5",
   "metadata": {},
   "source": [
    "### 2.3. Linear SVM"
   ]
  },
  {
   "cell_type": "code",
   "execution_count": 21,
   "id": "59532eab",
   "metadata": {},
   "outputs": [
    {
     "name": "stdout",
     "output_type": "stream",
     "text": [
      "[LibLinear]\n",
      "Accuracy: 0.9153846153846154\n"
     ]
    },
    {
     "data": {
      "text/plain": [
       "LinearSVC(C=10.0, tol=0.001, verbose=True)"
      ]
     },
     "execution_count": 21,
     "metadata": {},
     "output_type": "execute_result"
    }
   ],
   "source": [
    "# Run with Linear SVM\n",
    "def classifying_with_linear_SVM(X_train, y_train, X_test, y_test):\n",
    "    from sklearn.svm import LinearSVC\n",
    "    clf = LinearSVC(C=10.0, tol=0.001, verbose=True)\n",
    "    clf.fit(X_train, y_train)\n",
    "    y_pred = clf.predict(X_test)\n",
    "    accuracy = compute_accuracy(y_pred, y_test)\n",
    "    print(\"\\nAccuracy:\", accuracy)\n",
    "    return clf\n",
    "\n",
    "classifying_with_linear_SVM(X_train, y_train, X_test, y_test)"
   ]
  },
  {
   "cell_type": "code",
   "execution_count": 1,
   "id": "55e0b09c",
   "metadata": {},
   "outputs": [
    {
     "name": "stdout",
     "output_type": "stream",
     "text": [
      "[LibSVM]\n",
      "Accuracy: 0.9044991511035654\n"
     ]
    }
   ],
   "source": [
    "# Run with Kernel SVM\n",
    "def classifying_with_kernel_SVM(X_train, y_train, X_test, y_test):\n",
    "    from sklearn.svm import SVC\n",
    "    clf = SVC(C=50.0, kernel=\"rbf\", gamma=0.1, tol=0.001, verbose=True)\n",
    "    clf.fit(X_train, y_train)\n",
    "    y_pred = clf.predict(X_test)\n",
    "    accuracy = compute_accuracy(y_pred, y_test)\n",
    "    print(\"\\nAccuracy:\", accuracy)\n",
    "    return clf\n",
    "\n",
    "classifying_with_kernel_SVM(X_train, y_train, X_test, y_test)"
   ]
  }
 ],
 "metadata": {
  "kernelspec": {
   "display_name": "Python 3 (ipykernel)",
   "language": "python",
   "name": "python3"
  },
  "language_info": {
   "codemirror_mode": {
    "name": "ipython",
    "version": 3
   },
   "file_extension": ".py",
   "mimetype": "text/x-python",
   "name": "python",
   "nbconvert_exporter": "python",
   "pygments_lexer": "ipython3",
   "version": "3.9.12"
  }
 },
 "nbformat": 4,
 "nbformat_minor": 5
}
